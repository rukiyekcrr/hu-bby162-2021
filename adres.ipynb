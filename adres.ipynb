{
  "nbformat": 4,
  "nbformat_minor": 0,
  "metadata": {
    "colab": {
      "name": "adres.ipynb",
      "provenance": [],
      "mount_file_id": "https://github.com/rukiyekcrr/hu-bby162-2021/blob/main/adres.ipynb",
      "authorship_tag": "ABX9TyNuJphyNUecY40kE53bFh9/",
      "include_colab_link": true
    },
    "kernelspec": {
      "name": "python3",
      "display_name": "Python 3"
    },
    "language_info": {
      "name": "python"
    }
  },
  "cells": [
    {
      "cell_type": "markdown",
      "metadata": {
        "id": "view-in-github",
        "colab_type": "text"
      },
      "source": [
        "<a href=\"https://colab.research.google.com/github/rukiyekcrr/hu-bby162-2021/blob/main/adres.ipynb\" target=\"_parent\"><img src=\"https://colab.research.google.com/assets/colab-badge.svg\" alt=\"Open In Colab\"/></a>"
      ]
    },
    {
      "cell_type": "code",
      "metadata": {
        "colab": {
          "base_uri": "https://localhost:8080/"
        },
        "id": "RC5mednxuZSU",
        "outputId": "972c3127-d190-4640-a945-9c0e82a2a956"
      },
      "source": [
        "#dosya okuma\n",
        "#Google Drive Bağlantısı\n",
        "\n",
        "'''\n",
        "from google.colab import drive\n",
        "drive.mount('/gdrive')\n",
        "'''\n",
        "\n",
        "dosya = \"/content/drive/MyDrive/Colab Notebooks/HU-BBY162-2021/adres.txt\"\n",
        "\n",
        "f = open(dosya, \"r\") \n",
        "\n",
        "for line in f.readlines():\n",
        "    print(line)\n",
        "\n",
        "f.close()"
      ],
      "execution_count": 1,
      "outputs": [
        {
          "output_type": "stream",
          "text": [
            "Ad, Soyad: Rukiye Kucur\n",
            "\n",
            "E-posta: rrukiyee.kcr06@gmail.com\n"
          ],
          "name": "stdout"
        }
      ]
    },
    {
      "cell_type": "code",
      "metadata": {
        "id": "hzp2xOdPWAwL",
        "colab": {
          "base_uri": "https://localhost:8080/"
        },
        "outputId": "ea2caaad-d33c-410d-b280-c43f558a538b"
      },
      "source": [
        "#dosya yazma\n",
        "\n",
        "dosya = \"/content/drive/MyDrive/Colab Notebooks/HU-BBY162-2021/adres.txt\"\n",
        "\n",
        "f = open(dosya, \"r\") \n",
        "\n",
        "f = open(dosya, 'w')\n",
        "f.write (\"Rukiye\\n\")\n",
        "f.write (\"KUCUR\\n\")\n",
        "f.write (\"rrukiyee.kcr06@gmail.com\")\n",
        "f.close()\n",
        "\n",
        "f= open(dosya,\"r\")\n",
        "for line in f.readlines():\n",
        "    print(line)\n",
        "\n",
        "f.close()"
      ],
      "execution_count": 2,
      "outputs": [
        {
          "output_type": "stream",
          "text": [
            "Rukiye\n",
            "\n",
            "KUCUR\n",
            "\n",
            "rrukiyee.kcr06@gmail.com\n"
          ],
          "name": "stdout"
        }
      ]
    }
  ]
}