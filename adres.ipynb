{
  "nbformat": 4,
  "nbformat_minor": 0,
  "metadata": {
    "colab": {
      "name": "adres.ipynb",
      "provenance": [],
      "mount_file_id": "1IEQNFIb91I6tvp6KDpaWzgF2PVwvpXYp",
      "authorship_tag": "ABX9TyPpz94jPZbxy6atV1ObAtsL",
      "include_colab_link": true
    },
    "kernelspec": {
      "name": "python3",
      "display_name": "Python 3"
    },
    "language_info": {
      "name": "python"
    }
  },
  "cells": [
    {
      "cell_type": "markdown",
      "metadata": {
        "id": "view-in-github",
        "colab_type": "text"
      },
      "source": [
        "<a href=\"https://colab.research.google.com/github/rukiyekcrr/hu-bby162-2021/blob/main/adres.ipynb\" target=\"_parent\"><img src=\"https://colab.research.google.com/assets/colab-badge.svg\" alt=\"Open In Colab\"/></a>"
      ]
    },
    {
      "cell_type": "code",
      "metadata": {
        "colab": {
          "base_uri": "https://localhost:8080/"
        },
        "id": "RC5mednxuZSU",
        "outputId": "f971cbec-c0d6-4f02-aa2c-d049301033ba"
      },
      "source": [
        "dosya = \"/content/drive/MyDrive/Colab Notebooks/HU-BBY162-2021/adres.txt\"\n",
        "\n",
        "f = open(dosya, \"r\") \n",
        "\n",
        "f = open(dosya, 'w')\n",
        "f.write (\"Rukiye\\n\")\n",
        "f.write (\"KUCUR\\n\")\n",
        "f.write (\"rrukiyee.kcr06@gmail.com\")\n",
        "f.close()\n",
        "\n",
        "f= open(dosya,\"r\")\n",
        "for line in f.readlines():\n",
        "    print(line)\n",
        "\n",
        "f.close()"
      ],
      "execution_count": 6,
      "outputs": [
        {
          "output_type": "stream",
          "text": [
            "Rukiye\n",
            "\n",
            "KUCUR\n",
            "\n",
            "rrukiyee.kcr06@gmail.com\n"
          ],
          "name": "stdout"
        }
      ]
    }
  ]
}