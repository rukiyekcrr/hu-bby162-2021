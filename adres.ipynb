{
  "nbformat": 4,
  "nbformat_minor": 0,
  "metadata": {
    "colab": {
      "name": "adres.ipynb",
      "provenance": [],
      "mount_file_id": "https://github.com/rukiyekcrr/hu-bby162-2021/blob/main/adres.ipynb",
      "authorship_tag": "ABX9TyPlFOj6gTjkQBrLuYbmoxP+",
      "include_colab_link": true
    },
    "kernelspec": {
      "name": "python3",
      "display_name": "Python 3"
    },
    "language_info": {
      "name": "python"
    }
  },
  "cells": [
    {
      "cell_type": "markdown",
      "metadata": {
        "id": "view-in-github",
        "colab_type": "text"
      },
      "source": [
        "<a href=\"https://colab.research.google.com/github/rukiyekcrr/hu-bby162-2021/blob/main/adres.ipynb\" target=\"_parent\"><img src=\"https://colab.research.google.com/assets/colab-badge.svg\" alt=\"Open In Colab\"/></a>"
      ]
    },
    {
      "cell_type": "code",
      "metadata": {
        "colab": {
          "base_uri": "https://localhost:8080/"
        },
        "id": "RC5mednxuZSU",
        "outputId": "b171818d-ff18-4c38-9933-9621a6096a7f"
      },
      "source": [
        "#dosya işlemleri\n",
        "\n",
        "dosya = \"/content/drive/MyDrive/Colab Notebooks/HU-BBY162-2021/adres.txt\"\n",
        "\n",
        "adSoyad = input(\"Adınızı soyadınızı giriniz: \")\n",
        "eposta = input(\"E-posta adresinizi giriniz: \")\n",
        "\n",
        "f = open(dosya, \"a\") \n",
        "f.write(adSoyad + \" | \" + eposta + \"\\n\" )\n",
        "f.close()\n",
        "\n",
        "f = open(dosya, \"r\")\n",
        "\n",
        "for line in f.readlines():\n",
        "    print(line)\n",
        "\n",
        "f.close()"
      ],
      "execution_count": 11,
      "outputs": [
        {
          "output_type": "stream",
          "text": [
            "Adınızı soyadınızı giriniz: Rukiye Kucur\n",
            "E-posta adresinizi giriniz: rrukiyee.kcr06@gmail.com\n",
            "Ad, Soyad: Rukiye Kucur\n",
            "\n",
            "E-posta: rrukiyee.kcr06@gmail.com\n",
            "\n",
            "Rukiye Kucur | rrukiyee.kcr06@gmail.com\n",
            "\n",
            "Rukiye Kucur | rrukiyee.kcr06@gmail.com\n",
            "\n"
          ],
          "name": "stdout"
        }
      ]
    }
  ]
}