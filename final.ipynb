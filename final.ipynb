{
  "nbformat": 4,
  "nbformat_minor": 0,
  "metadata": {
    "colab": {
      "name": "final.ipynb",
      "provenance": [],
      "collapsed_sections": [],
      "mount_file_id": "1f5A2Id2aoASLHFSQcPufoQI0mVJqo4-L",
      "authorship_tag": "ABX9TyPXlg14kX/vTjh7xD04O2lE",
      "include_colab_link": true
    },
    "kernelspec": {
      "name": "python3",
      "display_name": "Python 3"
    },
    "language_info": {
      "name": "python"
    }
  },
  "cells": [
    {
      "cell_type": "markdown",
      "metadata": {
        "id": "view-in-github",
        "colab_type": "text"
      },
      "source": [
        "<a href=\"https://colab.research.google.com/github/rukiyekcrr/hu-bby162-2021/blob/main/final.ipynb\" target=\"_parent\"><img src=\"https://colab.research.google.com/assets/colab-badge.svg\" alt=\"Open In Colab\"/></a>"
      ]
    },
    {
      "cell_type": "code",
      "metadata": {
        "colab": {
          "base_uri": "https://localhost:8080/"
        },
        "id": "Y0h1jLLbLKY_",
        "outputId": "6b0682fc-07c8-4f2a-9f81-85a7f1c589f9"
      },
      "source": [
        "#Kütüphane Otomasyonu\n",
        "#Veri tabanı:/content/drive/MyDrive/Colab Notebooks/HU-BBY162-2021/final.txt\n",
        "\n",
        "print(\"Kütüphane Otomasyon Sistemine Hoşgeldiniz\")\n",
        "dosya = \"/content/drive/MyDrive/Colab Notebooks/HU-BBY162-2021/final.txt\"\n",
        "\n",
        "def eserListele():\n",
        "  f = open(dosya, \"r\")\n",
        "  for line in f.readlines():\n",
        "    print(line)\n",
        "  f.close()\n",
        "\n",
        "def eserEkle():\n",
        "  eserAdi = input(\"Eser adını giriniz: \")\n",
        "  yazarAdi = input(\"Yazar adını giriniz: \")\n",
        "  yayinevi = input(\"Yayınevini giriniz: \")\n",
        "  basimTarihi = input(\"Basım tarihini giriniz: \")\n",
        "  ISBN = input(\"ISBN numarasını giriniz: \")\n",
        "  f = open(dosya, 'a')\n",
        "  f.write(eserAdi + \" , \" + yazarAdi + \" , \" + yayinevi + \" , \" + basimTarihi + \" , \" + ISBN + '\\n')\n",
        "  print(\"Eser Ekleme Tamamlandı\") \n",
        "  f.close()\n",
        "\n",
        "islemSecimi = [\"Listele\" , \"Ekle\" , \"Sonlandır\"]\n",
        "while islemSecimi:\n",
        "  girilenİslem = input(\"Katalogdaki eser listesini görüntülemek için 'Listele' yazınız. \\n\"\n",
        "      \"Yeni eser kaydı eklemek için 'Ekle' yazınız. \\n\"\n",
        "      \"Sistemden çıkmak için 'Sonlandır' yazınız. \\n\"\n",
        "      \"Yapmak istediğiniz işlem için ilgili kelimeyi yazınız: \")\n",
        "  if girilenİslem == islemSecimi[0]:\n",
        "    eserListele()\n",
        "  elif girilenİslem == islemSecimi[1]:\n",
        "      print(\"Kataloğa yeni bir eser ekleyin.\")\n",
        "      eserEkle()\n",
        "  elif girilenİslem == islemSecimi[2]:\n",
        "      print(\"Sonlandırma işlemi tamamlandı.\")\n",
        "      break\n"
      ],
      "execution_count": 1,
      "outputs": [
        {
          "output_type": "stream",
          "text": [
            "Kütüphane Otomasyon Sistemine Hoşgeldiniz\n",
            "Katalogdaki eser listesini görüntülemek için 'Listele' yazınız. \n",
            "Yeni eser kaydı eklemek için 'Ekle' yazınız. \n",
            "Sistemden çıkmak için 'Sonlandır' yazınız. \n",
            "Yapmak istediğiniz işlem için ilgili kelimeyi yazınız: Listele\n",
            "Acımak, Reşat Nuri Güntekin, İnkılap Yayınevi, 2019, 9789751026569\n",
            "\n",
            "Elveda Gülsarı, Cengiz Aytmatov, Ötüken Yayınevi, 1993, 9789754371093\n",
            "\n",
            "Ölümle Oyun, Ejder Ol, IQ Yayınevi, 2014, 978975255405\n",
            "\n",
            "Uzun Hikaye, Mustafa Kutlu, Dergah Yayınevi, 2014, 978975995331\n",
            "\n",
            "Katalogdaki eser listesini görüntülemek için 'Listele' yazınız. \n",
            "Yeni eser kaydı eklemek için 'Ekle' yazınız. \n",
            "Sistemden çıkmak için 'Sonlandır' yazınız. \n",
            "Yapmak istediğiniz işlem için ilgili kelimeyi yazınız: Ekle\n",
            "Kataloğa yeni bir eser ekleyin.\n",
            "Eser adını giriniz: Fareler ve İnsanlar\n",
            "Yazar adını giriniz: John Steinbeck\n",
            "Yayınevini giriniz: Sel Yayınevi\n",
            "Basım tarihini giriniz: 2012\n",
            "ISBN numarasını giriniz: 9789755705859\n",
            "Eser Ekleme Tamamlandı\n",
            "Katalogdaki eser listesini görüntülemek için 'Listele' yazınız. \n",
            "Yeni eser kaydı eklemek için 'Ekle' yazınız. \n",
            "Sistemden çıkmak için 'Sonlandır' yazınız. \n",
            "Yapmak istediğiniz işlem için ilgili kelimeyi yazınız: Sonlandır\n",
            "Sonlandırma işlemi tamamlandı.\n"
          ],
          "name": "stdout"
        }
      ]
    }
  ]
}